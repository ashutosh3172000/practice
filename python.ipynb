{
  "nbformat": 4,
  "nbformat_minor": 0,
  "metadata": {
    "colab": {
      "provenance": []
    },
    "kernelspec": {
      "name": "python3",
      "display_name": "Python 3"
    },
    "language_info": {
      "name": "python"
    }
  },
  "cells": [
    {
      "cell_type": "markdown",
      "source": [],
      "metadata": {
        "id": "A2fdC5IO10PA"
      }
    },
    {
      "cell_type": "code",
      "execution_count": null,
      "metadata": {
        "id": "fps7OM8e1pmq"
      },
      "outputs": [],
      "source": [
        "# practice\n"
      ]
    },
    {
      "cell_type": "markdown",
      "source": [
        "# practice"
      ],
      "metadata": {
        "id": "qjowwWy619sk"
      }
    },
    {
      "cell_type": "markdown",
      "source": [
        "1. what is this?\n",
        "  - practice session"
      ],
      "metadata": {
        "id": "bH1lnMZa2CVN"
      }
    }
  ]
}